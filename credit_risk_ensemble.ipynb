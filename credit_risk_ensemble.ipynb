import warnings
warnings.filterwarnings('ignore')
import numpy as np
import pandas as pd
from pathlib import Path
from collections import Counter
from sklearn.metrics import balanced_accuracy_score
from sklearn.metrics import confusion_matrix
from imblearn.metrics import classification_report_imbalanced
Read the CSV and Perform Basic Data Cleaning
# https://help.lendingclub.com/hc/en-us/articles/215488038-What-do-the-different-Note-statuses-mean-

columns = [
    "loan_amnt", "int_rate", "installment", "home_ownership",
    "annual_inc", "verification_status", "issue_d", "loan_status",
    "pymnt_plan", "dti", "delinq_2yrs", "inq_last_6mths",
    "open_acc", "pub_rec", "revol_bal", "total_acc",
    "initial_list_status", "out_prncp", "out_prncp_inv", "total_pymnt",
    "total_pymnt_inv", "total_rec_prncp", "total_rec_int", "total_rec_late_fee",
    "recoveries", "collection_recovery_fee", "last_pymnt_amnt", "next_pymnt_d",
    "collections_12_mths_ex_med", "policy_code", "application_type", "acc_now_delinq",
    "tot_coll_amt", "tot_cur_bal", "open_acc_6m", "open_act_il",
    "open_il_12m", "open_il_24m", "mths_since_rcnt_il", "total_bal_il",
    "il_util", "open_rv_12m", "open_rv_24m", "max_bal_bc",
    "all_util", "total_rev_hi_lim", "inq_fi", "total_cu_tl",
    "inq_last_12m", "acc_open_past_24mths", "avg_cur_bal", "bc_open_to_buy",
    "bc_util", "chargeoff_within_12_mths", "delinq_amnt", "mo_sin_old_il_acct",
    "mo_sin_old_rev_tl_op", "mo_sin_rcnt_rev_tl_op", "mo_sin_rcnt_tl", "mort_acc",
    "mths_since_recent_bc", "mths_since_recent_inq", "num_accts_ever_120_pd", "num_actv_bc_tl",
    "num_actv_rev_tl", "num_bc_sats", "num_bc_tl", "num_il_tl",
    "num_op_rev_tl", "num_rev_accts", "num_rev_tl_bal_gt_0",
    "num_sats", "num_tl_120dpd_2m", "num_tl_30dpd", "num_tl_90g_dpd_24m",
    "num_tl_op_past_12m", "pct_tl_nvr_dlq", "percent_bc_gt_75", "pub_rec_bankruptcies",
    "tax_liens", "tot_hi_cred_lim", "total_bal_ex_mort", "total_bc_limit",
    "total_il_high_credit_limit", "hardship_flag", "debt_settlement_flag"
]

target = ["loan_status"]
# Load the data
file_path = Path('LoanStats_2019Q1.csv')
df = pd.read_csv(file_path, skiprows=1)[:-2]
df = df.loc[:, columns].copy()

# Drop the null columns where all values are null
df = df.dropna(axis='columns', how='all')

# Drop the null rows
df = df.dropna()

# Remove the `Issued` loan status
issued_mask = df['loan_status'] != 'Issued'
df = df.loc[issued_mask]

# convert interest rate to numerical
df['int_rate'] = df['int_rate'].str.replace('%', '')
df['int_rate'] = df['int_rate'].astype('float') / 100


# Convert the target column values to low_risk and high_risk based on their values
x = {'Current': 'low_risk'}   
df = df.replace(x)

x = dict.fromkeys(['Late (31-120 days)', 'Late (16-30 days)', 'Default', 'In Grace Period'], 'high_risk')    
df = df.replace(x)

df.reset_index(inplace=True, drop=True)

df.head()
loan_amnt	int_rate	installment	home_ownership	annual_inc	verification_status	issue_d	loan_status	pymnt_plan	dti	...	pct_tl_nvr_dlq	percent_bc_gt_75	pub_rec_bankruptcies	tax_liens	tot_hi_cred_lim	total_bal_ex_mort	total_bc_limit	total_il_high_credit_limit	hardship_flag	debt_settlement_flag
0	10500.0	0.1719	375.35	RENT	66000.0	Source Verified	Mar-2019	low_risk	n	27.24	...	85.7	100.0	0.0	0.0	65687.0	38199.0	2000.0	61987.0	N	N
1	25000.0	0.2000	929.09	MORTGAGE	105000.0	Verified	Mar-2019	low_risk	n	20.23	...	91.2	50.0	1.0	0.0	271427.0	60641.0	41200.0	49197.0	N	N
2	20000.0	0.2000	529.88	MORTGAGE	56000.0	Verified	Mar-2019	low_risk	n	24.26	...	66.7	50.0	0.0	0.0	60644.0	45684.0	7500.0	43144.0	N	N
3	10000.0	0.1640	353.55	RENT	92000.0	Verified	Mar-2019	low_risk	n	31.44	...	100.0	50.0	1.0	0.0	99506.0	68784.0	19700.0	76506.0	N	N
4	22000.0	0.1474	520.39	MORTGAGE	52000.0	Not Verified	Mar-2019	low_risk	n	18.76	...	100.0	0.0	0.0	0.0	219750.0	25919.0	27600.0	20000.0	N	N
5 rows × 86 columns

Split the Data into Training and Testing
# Create our features
X = pd.get_dummies(df.drop('loan_status', axis=1))

# Create our target
y = df["loan_status"]
X.describe()
loan_amnt	int_rate	installment	annual_inc	dti	delinq_2yrs	inq_last_6mths	open_acc	pub_rec	revol_bal	...	issue_d_Mar-2019	pymnt_plan_n	initial_list_status_f	initial_list_status_w	next_pymnt_d_Apr-2019	next_pymnt_d_May-2019	application_type_Individual	application_type_Joint App	hardship_flag_N	debt_settlement_flag_N
count	68817.000000	68817.000000	68817.000000	6.881700e+04	68817.000000	68817.000000	68817.000000	68817.000000	68817.000000	68817.000000	...	68817.000000	68817.0	68817.000000	68817.000000	68817.000000	68817.000000	68817.000000	68817.000000	68817.0	68817.0
mean	16677.594562	0.127718	480.652863	8.821371e+04	21.778153	0.217766	0.497697	12.587340	0.126030	17604.142828	...	0.177238	1.0	0.123879	0.876121	0.383161	0.616839	0.860340	0.139660	1.0	1.0
std	10277.348590	0.048130	288.062432	1.155800e+05	20.199244	0.718367	0.758122	6.022869	0.336797	21835.880400	...	0.381873	0.0	0.329446	0.329446	0.486161	0.486161	0.346637	0.346637	0.0	0.0
min	1000.000000	0.060000	30.890000	4.000000e+01	0.000000	0.000000	0.000000	2.000000	0.000000	0.000000	...	0.000000	1.0	0.000000	0.000000	0.000000	0.000000	0.000000	0.000000	1.0	1.0
25%	9000.000000	0.088100	265.730000	5.000000e+04	13.890000	0.000000	0.000000	8.000000	0.000000	6293.000000	...	0.000000	1.0	0.000000	1.000000	0.000000	0.000000	1.000000	0.000000	1.0	1.0
50%	15000.000000	0.118000	404.560000	7.300000e+04	19.760000	0.000000	0.000000	11.000000	0.000000	12068.000000	...	0.000000	1.0	0.000000	1.000000	0.000000	1.000000	1.000000	0.000000	1.0	1.0
75%	24000.000000	0.155700	648.100000	1.040000e+05	26.660000	0.000000	1.000000	16.000000	0.000000	21735.000000	...	0.000000	1.0	0.000000	1.000000	1.000000	1.000000	1.000000	0.000000	1.0	1.0
max	40000.000000	0.308400	1676.230000	8.797500e+06	999.000000	18.000000	5.000000	72.000000	4.000000	587191.000000	...	1.000000	1.0	1.000000	1.000000	1.000000	1.000000	1.000000	1.000000	1.0	1.0
8 rows × 95 columns

# Check the balance of our target values
y.value_counts()
low_risk     68470
high_risk      347
Name: loan_status, dtype: int64
from sklearn.model_selection import train_test_split
X_train, X_test, y_train, y_test = train_test_split(X, y, random_state=1, stratify=y)
X_train.shape
(51612, 95)
Ensemble Learners
In this section, you will compare two ensemble algorithms to determine which algorithm results in the best performance. You will train a Balanced Random Forest Classifier and an Easy Ensemble AdaBoost classifier . For each algorithm, be sure to complete the folliowing steps:

Train the model using the training data.
Calculate the balanced accuracy score from sklearn.metrics.
Print the confusion matrix from sklearn.metrics.
Generate a classication report using the imbalanced_classification_report from imbalanced-learn.
For the Balanced Random Forest Classifier onely, print the feature importance sorted in descending order (most important feature to least important) along with the feature score
Note: Use a random state of 1 for each algorithm to ensure consistency between tests

Balanced Random Forest Classifier
# Resample the training data with the BalancedRandomForestClassifier
from imblearn.ensemble import BalancedRandomForestClassifier
random_forest_classifer = BalancedRandomForestClassifier(n_estimators=100, random_state=1)
random_forest_classifier= random_forest_classifer.fit(X_train, y_train)
BalancedRandomForestClassifier(random_state=1)
# Calculated the balanced accuracy score
from sklearn.metrics import accuracy_score
y_pred = random_forest_classifier.predict(X_test)
accuracy_score(y_test, y_pred)
0.9076431269979657
# Display the confusion matrix
from sklearn.metrics import confusion_matrix
confusion_matrix(y_test, y_pred)
array([[   58,    29],
       [ 1560, 15558]], dtype=int64)
# Print the imbalanced classification report
from imblearn.metrics import classification_report_imbalanced
print(classification_report_imbalanced(y_test, y_pred))
                   pre       rec       spe        f1       geo       iba       sup

  high_risk       0.04      0.67      0.91      0.07      0.78      0.59        87
   low_risk       1.00      0.91      0.67      0.95      0.78      0.62     17118

avg / total       0.99      0.91      0.67      0.95      0.78      0.62     17205

# List the features sorted in descending order by feature importance
features = sorted(zip(rfclassifer.feature_importances_, X.columns), reverse=True)
features
[(0.07376667607601396, 'total_rec_prncp'),
 (0.06390324452717588, 'total_rec_int'),
 (0.06073336071656837, 'total_pymnt_inv'),
 (0.05811195697921674, 'total_pymnt'),
 (0.04951778391272079, 'last_pymnt_amnt'),
 (0.02458051789018817, 'int_rate'),
 (0.020398879691407974, 'out_prncp'),
 (0.018625883307901298, 'dti'),
 (0.018378884967316288, 'max_bal_bc'),
 (0.017480030880564042, 'issue_d_Jan-2019'),
 (0.01698703048268034, 'installment'),
 (0.01661321625916749, 'annual_inc'),
 (0.01623198470200134, 'bc_util'),
 (0.015821923028819504, 'mths_since_recent_inq'),
 (0.015385686591272854, 'total_bc_limit'),
 (0.015337070167127763, 'out_prncp_inv'),
 (0.01506649550412446, 'avg_cur_bal'),
 (0.014926455495755147, 'issue_d_Mar-2019'),
 (0.014924489307566175, 'revol_bal'),
 (0.014583210727445232, 'mo_sin_old_rev_tl_op'),
 (0.01428231366275729, 'total_bal_ex_mort'),
 (0.014238473969302518, 'tot_cur_bal'),
 (0.014067369111282934, 'mo_sin_old_il_acct'),
 (0.01351439379612201, 'total_bal_il'),
 (0.013343855077273033, 'bc_open_to_buy'),
 (0.013138998568932102, 'il_util'),
 (0.013106005248709657, 'tot_hi_cred_lim'),
 (0.013009300843392654, 'all_util'),
 (0.012104219411815444, 'total_il_high_credit_limit'),
 (0.011927748948209041, 'num_rev_accts'),
 (0.011194718062040365, 'total_rev_hi_lim'),
 (0.01072808547266412, 'mths_since_recent_bc'),
 (0.010485766778776592, 'pct_tl_nvr_dlq'),
 (0.010480039757813501, 'total_acc'),
 (0.010433852907121713, 'mths_since_rcnt_il'),
 (0.010171477424921242, 'mo_sin_rcnt_rev_tl_op'),
 (0.00990081847673844, 'num_rev_tl_bal_gt_0'),
 (0.00982912014219909, 'loan_amnt'),
 (0.009709211384642156, 'inq_last_12m'),
 (0.00939406635676521, 'num_bc_tl'),
 (0.009390960836832822, 'num_op_rev_tl'),
 (0.008883434647669785, 'mo_sin_rcnt_tl'),
 (0.008287412625195438, 'num_actv_bc_tl'),
 (0.00794880573688952, 'total_cu_tl'),
 (0.007944596002325902, 'percent_bc_gt_75'),
 (0.007841727903546316, 'num_sats'),
 (0.007813875400824535, 'num_actv_rev_tl'),
 (0.007760323250042998, 'open_acc'),
 (0.007420667106687749, 'acc_open_past_24mths'),
 (0.007404967411706728, 'inq_fi'),
 (0.007339507170175945, 'num_il_tl'),
 (0.006876404000725424, 'open_il_24m'),
 (0.00678542812487817, 'num_bc_sats'),
 (0.006660043732852357, 'open_act_il'),
 (0.006599809671624734, 'open_rv_24m'),
 (0.006393774120528892, 'mort_acc'),
 (0.006391381020548387, 'total_rec_late_fee'),
 (0.006065825838862652, 'num_tl_op_past_12m'),
 (0.006004776142662084, 'open_acc_6m'),
 (0.005920335354841418, 'next_pymnt_d_Apr-2019'),
 (0.005413306654546768, 'open_rv_12m'),
 (0.005248840731650208, 'open_il_12m'),
 (0.00487120814476765, 'issue_d_Feb-2019'),
 (0.004802823221798599, 'next_pymnt_d_May-2019'),
 (0.0047562588132075015, 'inq_last_6mths'),
 (0.0045238834578884635, 'delinq_2yrs'),
 (0.0039029173953907185, 'num_accts_ever_120_pd'),
 (0.003789677267237295, 'tot_coll_amt'),
 (0.0020853638216694215, 'home_ownership_OWN'),
 (0.0020060097354201176, 'home_ownership_MORTGAGE'),
 (0.001984067551288744, 'verification_status_Source Verified'),
 (0.0018789153640443002, 'verification_status_Verified'),
 (0.0018544555674736187, 'verification_status_Not Verified'),
 (0.0016995259802440514, 'home_ownership_RENT'),
 (0.001520907850775936, 'pub_rec_bankruptcies'),
 (0.0014185754855487824, 'pub_rec'),
 (0.0013879548937552864, 'initial_list_status_f'),
 (0.001239058844214324, 'application_type_Individual'),
 (0.0011046122443753368, 'num_tl_90g_dpd_24m'),
 (0.000805030988421211, 'initial_list_status_w'),
 (0.000710297252940571, 'application_type_Joint App'),
 (0.0006949062181389056, 'collections_12_mths_ex_med'),
 (0.00013272979926763346, 'home_ownership_ANY'),
 (0.0, 'tax_liens'),
 (0.0, 'recoveries'),
 (0.0, 'pymnt_plan_n'),
 (0.0, 'policy_code'),
 (0.0, 'num_tl_30dpd'),
 (0.0, 'num_tl_120dpd_2m'),
 (0.0, 'hardship_flag_N'),
 (0.0, 'delinq_amnt'),
 (0.0, 'debt_settlement_flag_N'),
 (0.0, 'collection_recovery_fee'),
 (0.0, 'chargeoff_within_12_mths'),
 (0.0, 'acc_now_delinq')]
Easy Ensemble AdaBoost Classifier
# Train the EasyEnsembleClassifier
from imblearn.ensemble import EasyEnsembleClassifier
easy_ensemble_classifier = EasyEnsembleClassifier(random_state=1)
easy_ensemble_classifier.fit(X_train, y_train)
EasyEnsembleClassifier(random_state=1)
# Calculated the balanced accuracy score
y_pred = easy_ensemble_classifier.predict(X_test)
accuracy_score(y_test, y_pred)
0.9428073234524847
# Display the confusion matrix
confusion_matrix(y_test, y_pred)
array([[   78,     9],
       [  975, 16143]], dtype=int64)
# Print the imbalanced classification report
print(classification_report_imbalanced(y_test, y_pred))
                   pre       rec       spe        f1       geo       iba       sup

  high_risk       0.07      0.90      0.94      0.14      0.92      0.84        87
   low_risk       1.00      0.94      0.90      0.97      0.92      0.85     17118

avg / total       0.99      0.94      0.90      0.97      0.92      0.85     17205

 
